{
 "cells": [
  {
   "cell_type": "code",
   "execution_count": null,
   "id": "532c33ec-9c19-4059-af89-69910adc1366",
   "metadata": {},
   "outputs": [],
   "source": [
    "pip install openpyxl"
   ]
  },
  {
   "cell_type": "code",
   "execution_count": 1,
   "id": "4dc818af-65e7-4d92-8dfc-c9c007ebce91",
   "metadata": {},
   "outputs": [
    {
     "name": "stdout",
     "output_type": "stream",
     "text": [
      "Collecting openpyxlNote: you may need to restart the kernel to use updated packages.\n",
      "\n",
      "  Downloading openpyxl-3.1.5-py2.py3-none-any.whl.metadata (2.5 kB)\n",
      "Collecting et-xmlfile (from openpyxl)\n",
      "  Downloading et_xmlfile-2.0.0-py3-none-any.whl.metadata (2.7 kB)\n",
      "Downloading openpyxl-3.1.5-py2.py3-none-any.whl (250 kB)\n",
      "Downloading et_xmlfile-2.0.0-py3-none-any.whl (18 kB)\n",
      "Installing collected packages: et-xmlfile, openpyxl\n",
      "Successfully installed et-xmlfile-2.0.0 openpyxl-3.1.5\n"
     ]
    },
    {
     "name": "stderr",
     "output_type": "stream",
     "text": [
      "\n",
      "[notice] A new release of pip is available: 24.2 -> 25.0.1\n",
      "[notice] To update, run: C:\\Users\\sarat\\AppData\\Local\\Programs\\Python\\Python311\\python.exe -m pip install --upgrade pip\n"
     ]
    }
   ],
   "source": [
    "pip install openpyxl"
   ]
  },
  {
   "cell_type": "code",
   "execution_count": 2,
   "id": "49a834e4-537d-473e-98aa-1d675be49da9",
   "metadata": {},
   "outputs": [],
   "source": [
    "import pandas as pd"
   ]
  },
  {
   "cell_type": "code",
   "execution_count": 3,
   "id": "dfb7f9d3-8c3b-453c-a943-3d5e6f45256d",
   "metadata": {},
   "outputs": [],
   "source": [
    "from sklearn.cluster import KMeans"
   ]
  },
  {
   "cell_type": "code",
   "execution_count": 4,
   "id": "86b7c2c1-28f7-457e-8fb4-dcd87c2f6b94",
   "metadata": {},
   "outputs": [
    {
     "name": "stdout",
     "output_type": "stream",
     "text": [
      "Note: you may need to restart the kernel to use updated packages.Requirement already satisfied: matplotlib in c:\\users\\sarat\\appdata\\local\\programs\\python\\python311\\lib\\site-packages (3.9.2)\n",
      "Requirement already satisfied: contourpy>=1.0.1 in c:\\users\\sarat\\appdata\\local\\programs\\python\\python311\\lib\\site-packages (from matplotlib) (1.3.1)\n",
      "Requirement already satisfied: cycler>=0.10 in c:\\users\\sarat\\appdata\\local\\programs\\python\\python311\\lib\\site-packages (from matplotlib) (0.12.1)\n",
      "Requirement already satisfied: fonttools>=4.22.0 in c:\\users\\sarat\\appdata\\local\\programs\\python\\python311\\lib\\site-packages (from matplotlib) (4.55.0)\n",
      "Requirement already satisfied: kiwisolver>=1.3.1 in c:\\users\\sarat\\appdata\\local\\programs\\python\\python311\\lib\\site-packages (from matplotlib) (1.4.7)\n",
      "Requirement already satisfied: numpy>=1.23 in c:\\users\\sarat\\appdata\\local\\programs\\python\\python311\\lib\\site-packages (from matplotlib) (1.26.4)\n",
      "Requirement already satisfied: packaging>=20.0 in c:\\users\\sarat\\appdata\\local\\programs\\python\\python311\\lib\\site-packages (from matplotlib) (24.0)\n",
      "Requirement already satisfied: pillow>=8 in c:\\users\\sarat\\appdata\\local\\programs\\python\\python311\\lib\\site-packages (from matplotlib) (11.0.0)\n",
      "Requirement already satisfied: pyparsing>=2.3.1 in c:\\users\\sarat\\appdata\\local\\programs\\python\\python311\\lib\\site-packages (from matplotlib) (3.2.0)\n",
      "Requirement already satisfied: python-dateutil>=2.7 in c:\\users\\sarat\\appdata\\local\\programs\\python\\python311\\lib\\site-packages (from matplotlib) (2.9.0.post0)\n",
      "Requirement already satisfied: six>=1.5 in c:\\users\\sarat\\appdata\\local\\programs\\python\\python311\\lib\\site-packages (from python-dateutil>=2.7->matplotlib) (1.16.0)\n",
      "\n"
     ]
    },
    {
     "name": "stderr",
     "output_type": "stream",
     "text": [
      "\n",
      "[notice] A new release of pip is available: 24.2 -> 25.0.1\n",
      "[notice] To update, run: C:\\Users\\sarat\\AppData\\Local\\Programs\\Python\\Python311\\python.exe -m pip install --upgrade pip\n"
     ]
    }
   ],
   "source": [
    "pip install matplotlib"
   ]
  },
  {
   "cell_type": "code",
   "execution_count": 5,
   "id": "ad358575-684f-43d8-929c-81ca70ab5a5e",
   "metadata": {},
   "outputs": [],
   "source": [
    "import matplotlib.pyplot as plt"
   ]
  },
  {
   "cell_type": "code",
   "execution_count": 6,
   "id": "6952e87a-c496-4c0a-9270-2d8b833438dc",
   "metadata": {},
   "outputs": [],
   "source": [
    "import numpy as np"
   ]
  },
  {
   "cell_type": "code",
   "execution_count": 7,
   "id": "134131d5-547f-49fe-ad01-a227cfd6da35",
   "metadata": {},
   "outputs": [],
   "source": [
    "file_path = \"Untitled Folder/Dataset for vehicle routing and Inv managent.xlsx\"  \n",
    "sheet_data = pd.read_excel(\"Untitled Folder/Dataset for vehicle routing and Inv managent.xlsx\", sheet_name=\"Sheet1\")\n"
   ]
  },
  {
   "cell_type": "code",
   "execution_count": 8,
   "id": "16368f46-f20f-43e2-8738-efc3e45846b7",
   "metadata": {},
   "outputs": [],
   "source": [
    "locations = sheet_data[[\"Store_Location\", \"Demand\"]]\n"
   ]
  },
  {
   "cell_type": "code",
   "execution_count": 9,
   "id": "53305c62-6945-4e1f-a7e7-199c0a5413c1",
   "metadata": {},
   "outputs": [
    {
     "name": "stderr",
     "output_type": "stream",
     "text": [
      "C:\\Users\\sarat\\AppData\\Local\\Temp\\ipykernel_39608\\2956421500.py:1: SettingWithCopyWarning: \n",
      "A value is trying to be set on a copy of a slice from a DataFrame.\n",
      "Try using .loc[row_indexer,col_indexer] = value instead\n",
      "\n",
      "See the caveats in the documentation: https://pandas.pydata.org/pandas-docs/stable/user_guide/indexing.html#returning-a-view-versus-a-copy\n",
      "  locations[\"Location_Code\"] = locations[\"Store_Location\"].astype(\"category\").cat.codes\n"
     ]
    }
   ],
   "source": [
    "locations[\"Location_Code\"] = locations[\"Store_Location\"].astype(\"category\").cat.codes\n",
    "locations_for_clustering = locations[[\"Location_Code\", \"Demand\"]].to_numpy()\n"
   ]
  },
  {
   "cell_type": "code",
   "execution_count": 10,
   "id": "42bf4dc3-4bad-4af9-a9c0-8853f278d410",
   "metadata": {},
   "outputs": [
    {
     "name": "stderr",
     "output_type": "stream",
     "text": [
      "C:\\Users\\sarat\\AppData\\Local\\Temp\\ipykernel_39608\\1240347677.py:3: SettingWithCopyWarning: \n",
      "A value is trying to be set on a copy of a slice from a DataFrame.\n",
      "Try using .loc[row_indexer,col_indexer] = value instead\n",
      "\n",
      "See the caveats in the documentation: https://pandas.pydata.org/pandas-docs/stable/user_guide/indexing.html#returning-a-view-versus-a-copy\n",
      "  locations[\"Cluster\"] = kmeans.fit_predict(locations_for_clustering)\n"
     ]
    }
   ],
   "source": [
    "num_clusters = 4\n",
    "kmeans = KMeans(n_clusters=num_clusters, random_state=0)\n",
    "locations[\"Cluster\"] = kmeans.fit_predict(locations_for_clustering)\n"
   ]
  },
  {
   "cell_type": "code",
   "execution_count": 11,
   "id": "99f6ce10-f2fe-45c7-875f-bd01e1a8a325",
   "metadata": {},
   "outputs": [],
   "source": [
    "inventory_data = sheet_data[[\"Date\", \"Product_ID\", \"Demand\", \"Stock_Level\", \"Lead_Time\"]]\n",
    "\n",
    "\n",
    "def restocking_suggestions(inventory):\n",
    "    restock_plan = []\n"
   ]
  },
  {
   "cell_type": "code",
   "execution_count": 12,
   "id": "2a27aa5e-6e36-446d-bcc9-bf45910d6664",
   "metadata": {},
   "outputs": [
    {
     "data": {
      "image/png": "[encoded data removed]",
      "text/plain": [
       "<Figure size 800x600 with 1 Axes>"
      ]
     },
     "metadata": {},
     "output_type": "display_data"
    }
   ],
   "source": [
    "plt.figure(figsize=(8, 6))\n",
    "for cluster in range(num_clusters):\n",
    "    cluster_data = locations[locations[\"Cluster\"] == cluster]\n",
    "    plt.scatter(cluster_data[\"Location_Code\"], cluster_data[\"Demand\"], label=f\"Cluster {cluster}\")\n",
    "\n",
    "plt.title(\"Store Location Clustering for Vehicle Routing\")\n",
    "plt.xlabel(\"Encoded Location\")\n",
    "plt.ylabel(\"Demand\")\n",
    "plt.legend()\n",
    "plt.show()\n"
   ]
  },
  {
   "cell_type": "code",
   "execution_count": 13,
   "id": "52264e1b-0219-4041-90c3-e2c1efcfdb0e",
   "metadata": {},
   "outputs": [],
   "source": [
    "def restocking_suggestions(inventory):\n",
    "    restock_plan = []\n",
    "    for _, row in inventory.iterrows():\n",
    "        if row[\"Stock_Level\"] < row[\"Demand\"] * row[\"Lead_Time\"]:\n",
    "            restock_plan.append({\n",
    "                \"Date\": row[\"Date\"],\n",
    "                \"Product_ID\": row[\"Product_ID\"],\n",
    "                \"Suggested_Restock\": (row[\"Demand\"] * row[\"Lead_Time\"]) - row[\"Stock_Level\"]\n",
    "            })\n",
    "    return pd.DataFrame(restock_plan)\n",
    "\n"
   ]
  },
  {
   "cell_type": "code",
   "execution_count": null,
   "id": "6ea5fd7b-c6d9-45dc-a9aa-854dafbe29dc",
   "metadata": {},
   "outputs": [],
   "source": [
    "restock_plan = restocking_suggestions(inventory_data)\n",
    "\n"
   ]
  },
  {
   "cell_type": "code",
   "execution_count": null,
   "id": "1d3c33fb-3454-4f1d-a5a7-c67c1553aea2",
   "metadata": {},
   "outputs": [],
   "source": [
    "print(\"Restocking Suggestions:\")\n",
    "print(restock_plan.head())"
   ]
  },
  {
   "cell_type": "code",
   "execution_count": null,
   "id": "d1516051-77ff-431f-a3fb-73725bc6cbdf",
   "metadata": {},
   "outputs": [],
   "source": []
  },
  {
   "cell_type": "code",
   "execution_count": null,
   "id": "8044b760-138f-4551-8b50-9289b17d8f7a",
   "metadata": {},
   "outputs": [],
   "source": []
  },
  {
   "cell_type": "code",
   "execution_count": null,
   "id": "9b0fe933-12f5-459e-bb39-7dd5d53e3c1b",
   "metadata": {},
   "outputs": [],
   "source": []
  }
 ],
 "metadata": {
  "kernelspec": {
   "display_name": "Python 3 (ipykernel)",
   "language": "python",
   "name": "python3"
  },
  "language_info": {
   "codemirror_mode": {
    "name": "ipython",
    "version": 3
   },
   "file_extension": ".py",
   "mimetype": "text/x-python",
   "name": "python",
   "nbconvert_exporter": "python",
   "pygments_lexer": "ipython3",
   "version": "3.11.4"
  }
 },
 "nbformat": 4,
 "nbformat_minor": 5
}
